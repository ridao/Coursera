{
 "cells": [
  {
   "cell_type": "markdown",
   "id": "b8cee065",
   "metadata": {},
   "source": [
    "# Data Science Tools and Ecosystem"
   ]
  },
  {
   "cell_type": "markdown",
   "id": "c126066d",
   "metadata": {},
   "source": [
    "In this notebook, I will summarize some of the tools, languages, and libraries used in the field of Data Science."
   ]
  },
  {
   "cell_type": "markdown",
   "id": "85d1096a",
   "metadata": {},
   "source": [
    "## Some of the popular languages that Data Scientists use are:\n",
    "\n",
    "1. Python  \n",
    "2. R  \n",
    "3. SQL  \n",
    "4. Julia  \n",
    "5. Scala  "
   ]
  },
  {
   "cell_type": "markdown",
   "id": "75818ee3",
   "metadata": {},
   "source": [
    "## Some of the commonly used libraries used by Data Scientists include:\n",
    "\n",
    "1. Pandas  \n",
    "2. NumPy  \n",
    "3. Matplotlib  \n",
    "4. Scikit-learn  \n",
    "5. TensorFlow  \n",
    "6. Keras  "
   ]
  },
  {
   "cell_type": "markdown",
   "id": "f2499036",
   "metadata": {},
   "source": [
    "## Data Science Tools\n",
    "\n",
    "| Tool              | Category        |\n",
    "|-------------------|-----------------|\n",
    "| Jupyter Notebook  | IDE             |\n",
    "| RStudio           | IDE             |\n",
    "| Apache Spark      | Big Data Engine |\n",
    "| TensorFlow        | Deep Learning   |\n",
    "| RapidMiner        | Machine Learning |"
   ]
  },
  {
   "cell_type": "markdown",
   "id": "1fa1184a",
   "metadata": {},
   "source": [
    "### Below are a few examples of evaluating arithmetic expressions in Python:\n"
   ]
  },
  {
   "cell_type": "code",
   "execution_count": 7,
   "id": "57a381c0",
   "metadata": {},
   "outputs": [
    {
     "data": {
      "text/plain": [
       "11.0"
      ]
     },
     "execution_count": 7,
     "metadata": {},
     "output_type": "execute_result"
    }
   ],
   "source": [
    "\n",
    "3 + 5  \n",
    "2 * 4  \n",
    "(10 / 2) + 6  "
   ]
  },
  {
   "cell_type": "code",
   "execution_count": 8,
   "id": "ceea0d60",
   "metadata": {},
   "outputs": [
    {
     "data": {
      "text/plain": [
       "17"
      ]
     },
     "execution_count": 8,
     "metadata": {},
     "output_type": "execute_result"
    }
   ],
   "source": [
    "\n",
    "(3 * 4) + 5"
   ]
  },
  {
   "cell_type": "code",
   "execution_count": 9,
   "id": "d4e2595f",
   "metadata": {},
   "outputs": [
    {
     "data": {
      "text/plain": [
       "3.3333333333333335"
      ]
     },
     "execution_count": 9,
     "metadata": {},
     "output_type": "execute_result"
    }
   ],
   "source": [
    "# Convert 200 minutes to hours by dividing by 60\n",
    "minutes = 200\n",
    "hours = minutes / 60\n",
    "hours"
   ]
  },
  {
   "cell_type": "markdown",
   "id": "d528538e",
   "metadata": {},
   "source": [
    "## Objectives of this notebook:\n",
    "\n",
    "- List popular languages for Data Science  \n",
    "- Introduce common libraries used by Data Scientists  \n",
    "- Showcase tools used in Data Science  \n",
    "- Perform basic arithmetic operations using Python  \n",
    "- Convert minutes to hours using Python code  "
   ]
  },
  {
   "cell_type": "markdown",
   "id": "f7c9d0e8",
   "metadata": {},
   "source": [
    "## Author\n",
    "\n",
    "Rida Ourrisse"
   ]
  }
 ],
 "metadata": {
  "kernelspec": {
   "display_name": "Python 3",
   "language": "python",
   "name": "python3"
  },
  "language_info": {
   "codemirror_mode": {
    "name": "ipython",
    "version": 3
   },
   "file_extension": ".py",
   "mimetype": "text/x-python",
   "name": "python",
   "nbconvert_exporter": "python",
   "pygments_lexer": "ipython3",
   "version": "3.11.5"
  }
 },
 "nbformat": 4,
 "nbformat_minor": 5
}
